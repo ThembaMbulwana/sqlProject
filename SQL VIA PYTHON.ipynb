{
 "cells": [
  {
   "cell_type": "code",
   "execution_count": 1,
   "metadata": {},
   "outputs": [],
   "source": [
    "# Packages\n",
    "import pyodbc"
   ]
  },
  {
   "cell_type": "markdown",
   "metadata": {},
   "source": [
    "# Connecting to SQL SERVER"
   ]
  },
  {
   "cell_type": "code",
   "execution_count": 2,
   "metadata": {},
   "outputs": [],
   "source": []
  },
  {
   "cell_type": "code",
   "execution_count": 3,
   "metadata": {},
   "outputs": [],
   "source": [
    "connect = pyodbc.connect(driver='{SQL Server}', host=server, database=db1, trusted_connection=tcon, user=uname, password=pword)"
   ]
  },
  {
   "cell_type": "code",
   "execution_count": 4,
   "metadata": {},
   "outputs": [],
   "source": [
    "cursor = connect.cursor()"
   ]
  },
  {
   "cell_type": "markdown",
   "metadata": {},
   "source": [
    "# Instructions\n",
    "\n",
    "Part 1: Creating a database\n",
    "Save all of your instructions in a script file - you will submit this file on Gnomio and github.\n"
   ]
  },
  {
   "cell_type": "markdown",
   "metadata": {},
   "source": [
    "**Create a database called “Umuzi”.**"
   ]
  },
  {
   "cell_type": "markdown",
   "metadata": {},
   "source": [
    "SQL Command:\n",
    "    CREATE DATABASE UMUZI;"
   ]
  },
  {
   "cell_type": "markdown",
   "metadata": {},
   "source": [
    "![title](Capture.png)"
   ]
  },
  {
   "cell_type": "markdown",
   "metadata": {},
   "source": [
    "**Create the following tables in the Umuzi database:**\n",
    "    \n",
    "      Customers \n",
    "      Employees \n",
    "      Orders \n",
    "      Payments \n",
    "      Products\n",
    "    "
   ]
  },
  {
   "cell_type": "markdown",
   "metadata": {},
   "source": [
    "## Creating Tables"
   ]
  },
  {
   "cell_type": "code",
   "execution_count": 5,
   "metadata": {},
   "outputs": [],
   "source": [
    "# Customers\n",
    "sql_commandA = \"\"\" \n",
    "CREATE TABLE Customers(\n",
    "        customerid      INT NOT NULL IDENTITY(1,1),\n",
    "        firstname       VARCHAR (50),\n",
    "        lastname        VARCHAR(50),\n",
    "        gender          VARCHAR(50),\n",
    "        addresses       VARCHAR(200),\n",
    "        phone           BIGINT,\n",
    "        email           VARCHAR(100),\n",
    "        city            VARCHAR(20),\n",
    "        country         VARCHAR(50),\n",
    "        PRIMARY KEY (customerid )\n",
    ");\n",
    "\"\"\""
   ]
  },
  {
   "cell_type": "code",
   "execution_count": 6,
   "metadata": {},
   "outputs": [],
   "source": [
    "cursor.execute(sql_commandA)\n",
    "connect.commit()"
   ]
  },
  {
   "cell_type": "code",
   "execution_count": 7,
   "metadata": {},
   "outputs": [],
   "source": [
    "# Employees\n",
    "sql_commandB = \"\"\" \n",
    "CREATE TABLE Employees(\n",
    "        employeeid     INT NOT NULL IDENTITY(1,1),\n",
    "        firstname      VARCHAR(50),\n",
    "        lastname       VARCHAR(50),\n",
    "        email          VARCHAR(100),\n",
    "        jobTitle       VARCHAR(50),\n",
    "        PRIMARY KEY (employeeid)\n",
    ");\n",
    "\"\"\""
   ]
  },
  {
   "cell_type": "code",
   "execution_count": 8,
   "metadata": {},
   "outputs": [],
   "source": [
    "cursor.execute(sql_commandB)\n",
    "connect.commit()"
   ]
  },
  {
   "cell_type": "code",
   "execution_count": 9,
   "metadata": {},
   "outputs": [],
   "source": [
    "# Payments\n",
    "sql_commandC = \"\"\" \n",
    "CREATE TABLE Payments(\n",
    "        paymentId      INT NOT NULL IDENTITY(1,1),\n",
    "        customerId     INT,\n",
    "        paymentDate    DATE,\n",
    "        amount         FLOAT,\n",
    "        PRIMARY KEY (paymentId),\n",
    "        FOREIGN KEY (customerId) REFERENCES Customers(customerId)\n",
    "\n",
    ");\"\"\""
   ]
  },
  {
   "cell_type": "code",
   "execution_count": 10,
   "metadata": {},
   "outputs": [],
   "source": [
    "cursor.execute(sql_commandC)\n",
    "connect.commit()"
   ]
  },
  {
   "cell_type": "code",
   "execution_count": 11,
   "metadata": {},
   "outputs": [],
   "source": [
    "# Products\n",
    "sql_commandD = \"\"\"\n",
    "CREATE TABLE Products(\n",
    "        productId     INT NOT NULL IDENTITY(1,1),\n",
    "        productName   VARCHAR (50),\n",
    "        descriptions  VARCHAR(500),\n",
    "        buyPrice      FLOAT,\n",
    "        PRIMARY KEY (productId)\n",
    ");\n",
    "\"\"\""
   ]
  },
  {
   "cell_type": "code",
   "execution_count": 12,
   "metadata": {},
   "outputs": [],
   "source": [
    "cursor.execute(sql_commandD)\n",
    "connect.commit()"
   ]
  },
  {
   "cell_type": "code",
   "execution_count": 13,
   "metadata": {},
   "outputs": [],
   "source": [
    "# Orders\n",
    "sql_commandE = \"\"\"\n",
    "CREATE TABLE Orders(\n",
    "        orderId           INT NOT NULL IDENTITY(1,1),        \n",
    "        productId         INT,\n",
    "        paymentId         INT,      \n",
    "        employeeId        INT,      \n",
    "        dateRequired      DATE,\n",
    "        dateShipped       DATE,\n",
    "        parcelStatus      VARCHAR(100),\n",
    "        PRIMARY KEY (orderId),\n",
    "        FOREIGN KEY (productId) REFERENCES Products(productId),\n",
    "        FOREIGN KEY (paymentId) REFERENCES Payments(paymentId),\n",
    "        FOREIGN KEY (employeeId) REFERENCES Employees(employeeId)\n",
    ");\n",
    "\"\"\""
   ]
  },
  {
   "cell_type": "code",
   "execution_count": 14,
   "metadata": {},
   "outputs": [],
   "source": [
    "cursor.execute(sql_commandE)\n",
    "connect.commit()"
   ]
  },
  {
   "cell_type": "markdown",
   "metadata": {},
   "source": [
    "# Inserting the records into tables"
   ]
  },
  {
   "cell_type": "code",
   "execution_count": 15,
   "metadata": {},
   "outputs": [],
   "source": [
    "# Customers\n",
    "sql_commandF = \"\"\"\n",
    "INSERT INTO Customers(firstname,lastname,gender,addresses,phone,email,city,country)\n",
    "                  VALUES('John','Hibert','Male','284 chaucer st',+2784789657,'john@gmail.com','Johannesburg','South'),\n",
    "                        ('Thando','Sithole','Female','240 Sect 1',+27794445584,'thando@gmail.com','Cape Town','South Africa'),\n",
    "                        ('Leon','Glen','Male','81 Everton Rd,Gillits',+27820832830,'Leon@gmail.com','Durban','South Africa'),\n",
    "                        ('Charl','Muller','Mal','290A Dorset Ecke',+44856872553,'Charl.muller@yahoo.com','Berlin','Germany'),\n",
    "                        ('Julia','Stein','Female','2 Wernerring',+448672445058,'Js234@yahoo.com','Frankfurt','Germany');\n",
    "\"\"\""
   ]
  },
  {
   "cell_type": "code",
   "execution_count": 16,
   "metadata": {},
   "outputs": [],
   "source": [
    "cursor.execute(sql_commandF)\n",
    "connect.commit()"
   ]
  },
  {
   "cell_type": "code",
   "execution_count": 17,
   "metadata": {},
   "outputs": [
    {
     "data": {
      "text/plain": [
       "[(1, 'John', 'Hibert', 'Male', '284 chaucer st', 2784789657, 'john@gmail.com', 'Johannesburg', 'South'),\n",
       " (2, 'Thando', 'Sithole', 'Female', '240 Sect 1', 27794445584, 'thando@gmail.com', 'Cape Town', 'South Africa'),\n",
       " (3, 'Leon', 'Glen', 'Male', '81 Everton Rd,Gillits', 27820832830, 'Leon@gmail.com', 'Durban', 'South Africa'),\n",
       " (4, 'Charl', 'Muller', 'Mal', '290A Dorset Ecke', 44856872553, 'Charl.muller@yahoo.com', 'Berlin', 'Germany'),\n",
       " (5, 'Julia', 'Stein', 'Female', '2 Wernerring', 448672445058, 'Js234@yahoo.com', 'Frankfurt', 'Germany')]"
      ]
     },
     "execution_count": 17,
     "metadata": {},
     "output_type": "execute_result"
    }
   ],
   "source": [
    "# View the Customers Table in SQL\n",
    "cursor.execute(\"SELECT * FROM Customers\")\n",
    "cursor.fetchall()"
   ]
  },
  {
   "cell_type": "code",
   "execution_count": 18,
   "metadata": {},
   "outputs": [],
   "source": [
    "# Employess\n",
    "sql_commandG = \"\"\"\n",
    "INSERT INTO Employees(firstname,lastname,email,jobtitle)\n",
    "            VALUES('Kani','Matthew','mat@gmail.com','Manager'),\n",
    "                  ('Lesly','Cronje','LesC@gmail.com','Clerk'),\n",
    "                  ('Gideon','Maduku','m@gmail.com','Accountant');\n",
    "\"\"\""
   ]
  },
  {
   "cell_type": "code",
   "execution_count": 19,
   "metadata": {},
   "outputs": [],
   "source": [
    "cursor.execute(sql_commandG)\n",
    "connect.commit()"
   ]
  },
  {
   "cell_type": "code",
   "execution_count": 20,
   "metadata": {},
   "outputs": [
    {
     "data": {
      "text/plain": [
       "[(1, 'Kani', 'Matthew', 'mat@gmail.com', 'Manager'),\n",
       " (2, 'Lesly', 'Cronje', 'LesC@gmail.com', 'Clerk'),\n",
       " (3, 'Gideon', 'Maduku', 'm@gmail.com', 'Accountant')]"
      ]
     },
     "execution_count": 20,
     "metadata": {},
     "output_type": "execute_result"
    }
   ],
   "source": [
    "# View the Employees Table in SQL\n",
    "cursor.execute(\"SELECT * FROM Employees\")\n",
    "cursor.fetchall()"
   ]
  },
  {
   "cell_type": "code",
   "execution_count": 21,
   "metadata": {},
   "outputs": [],
   "source": [
    "# Payments\n",
    "sql_commandH = \"\"\"\n",
    "INSERT INTO Payments(paymentDate,amount)\n",
    "            VALUES('01-09-2018',150.75),\n",
    "                  ('03-09-2018',150.75),\n",
    "                  ('03-09-2018',700.60);\n",
    "\"\"\""
   ]
  },
  {
   "cell_type": "code",
   "execution_count": 22,
   "metadata": {},
   "outputs": [],
   "source": [
    "cursor.execute(sql_commandH)\n",
    "connect.commit()"
   ]
  },
  {
   "cell_type": "code",
   "execution_count": 23,
   "metadata": {},
   "outputs": [
    {
     "data": {
      "text/plain": [
       "[(1, None, '2018-01-09', 150.75),\n",
       " (2, None, '2018-03-09', 150.75),\n",
       " (3, None, '2018-03-09', 700.6)]"
      ]
     },
     "execution_count": 23,
     "metadata": {},
     "output_type": "execute_result"
    }
   ],
   "source": [
    "# View the Payments Table in SQL\n",
    "cursor.execute(\"SELECT * FROM Payments\")\n",
    "cursor.fetchall()"
   ]
  },
  {
   "cell_type": "code",
   "execution_count": 24,
   "metadata": {},
   "outputs": [],
   "source": [
    "# Products\n",
    "sql_commandI = \"\"\"\n",
    "INSERT INTO Products(productName,descriptions,buyPrice)\n",
    "            VALUES('Harley Davidson Chopper','This replica features working kickstand, front suspension, gear-shift lever',150.75),\n",
    "                  ('Classic Car','Turnable front wheels, steering function',550.75),\n",
    "                  ('Sports car','Turnable front wheels, steering function',700.60);\n",
    "\"\"\""
   ]
  },
  {
   "cell_type": "code",
   "execution_count": 25,
   "metadata": {},
   "outputs": [],
   "source": [
    "cursor.execute(sql_commandI)\n",
    "connect.commit()"
   ]
  },
  {
   "cell_type": "code",
   "execution_count": 26,
   "metadata": {},
   "outputs": [
    {
     "data": {
      "text/plain": [
       "[(1, 'Harley Davidson Chopper', 'This replica features working kickstand, front suspension, gear-shift lever', 150.75),\n",
       " (2, 'Classic Car', 'Turnable front wheels, steering function', 550.75),\n",
       " (3, 'Sports car', 'Turnable front wheels, steering function', 700.6)]"
      ]
     },
     "execution_count": 26,
     "metadata": {},
     "output_type": "execute_result"
    }
   ],
   "source": [
    "# View the above created Table in SQL\n",
    "cursor.execute(\"SELECT * FROM Products\")\n",
    "cursor.fetchall()"
   ]
  },
  {
   "cell_type": "code",
   "execution_count": 27,
   "metadata": {},
   "outputs": [],
   "source": [
    "# Orders\n",
    "sql_commandJ = \"\"\"\n",
    "INSERT INTO Orders(dateRequired,dateShipped,parcelStatus)\n",
    "            VALUES('05-09-2018',NULL,'Not shipped'),\n",
    "                  ('04-09-2018','03-09-2018','Shipped'),\n",
    "                  ('06-09-2018',NULL,'Not shipped');\n",
    "\"\"\""
   ]
  },
  {
   "cell_type": "code",
   "execution_count": 28,
   "metadata": {},
   "outputs": [],
   "source": [
    "cursor.execute(sql_commandJ)\n",
    "connect.commit()"
   ]
  },
  {
   "cell_type": "code",
   "execution_count": 29,
   "metadata": {},
   "outputs": [
    {
     "data": {
      "text/plain": [
       "[(1, None, None, None, '2018-05-09', None, 'Not shipped'),\n",
       " (2, None, None, None, '2018-04-09', '2018-03-09', 'Shipped'),\n",
       " (3, None, None, None, '2018-06-09', None, 'Not shipped')]"
      ]
     },
     "execution_count": 29,
     "metadata": {},
     "output_type": "execute_result"
    }
   ],
   "source": [
    "# View the above created Table in SQL\n",
    "cursor.execute(\"SELECT * FROM Orders\")\n",
    "cursor.fetchall()"
   ]
  },
  {
   "cell_type": "markdown",
   "metadata": {},
   "source": [
    "# Part 2: Querying a database\n",
    "    \n",
    "Save all of your instructions in a script file - you will submit this file on Gnomio and github"
   ]
  },
  {
   "cell_type": "markdown",
   "metadata": {},
   "source": [
    "**SELECT ALL records from table Customers.**"
   ]
  },
  {
   "cell_type": "code",
   "execution_count": 30,
   "metadata": {},
   "outputs": [
    {
     "data": {
      "text/plain": [
       "[(1, 'John', 'Hibert', 'Male', '284 chaucer st', 2784789657, 'john@gmail.com', 'Johannesburg', 'South'),\n",
       " (2, 'Thando', 'Sithole', 'Female', '240 Sect 1', 27794445584, 'thando@gmail.com', 'Cape Town', 'South Africa'),\n",
       " (3, 'Leon', 'Glen', 'Male', '81 Everton Rd,Gillits', 27820832830, 'Leon@gmail.com', 'Durban', 'South Africa'),\n",
       " (4, 'Charl', 'Muller', 'Mal', '290A Dorset Ecke', 44856872553, 'Charl.muller@yahoo.com', 'Berlin', 'Germany'),\n",
       " (5, 'Julia', 'Stein', 'Female', '2 Wernerring', 448672445058, 'Js234@yahoo.com', 'Frankfurt', 'Germany')]"
      ]
     },
     "execution_count": 30,
     "metadata": {},
     "output_type": "execute_result"
    }
   ],
   "source": [
    "cursor.execute(\"SELECT * FROM Customers;\")\n",
    "cursor.fetchall()"
   ]
  },
  {
   "cell_type": "markdown",
   "metadata": {},
   "source": [
    "**SELECT records only from the name column in the Customers table.**"
   ]
  },
  {
   "cell_type": "code",
   "execution_count": 31,
   "metadata": {},
   "outputs": [
    {
     "data": {
      "text/plain": [
       "[('John', ), ('Thando', ), ('Leon', ), ('Charl', ), ('Julia', )]"
      ]
     },
     "execution_count": 31,
     "metadata": {},
     "output_type": "execute_result"
    }
   ],
   "source": [
    "cursor.execute(\"SELECT firstname FROM Customers;\")\n",
    "cursor.fetchall()"
   ]
  },
  {
   "cell_type": "markdown",
   "metadata": {},
   "source": [
    "**Show the name of the Customer whose CustomerID is 1.**"
   ]
  },
  {
   "cell_type": "code",
   "execution_count": 32,
   "metadata": {},
   "outputs": [
    {
     "data": {
      "text/plain": [
       "[('John', )]"
      ]
     },
     "execution_count": 32,
     "metadata": {},
     "output_type": "execute_result"
    }
   ],
   "source": [
    "cursor.execute(\"SELECT firstname FROM Customers WHERE CustomerID = 1;\")\n",
    "cursor.fetchall()"
   ]
  },
  {
   "cell_type": "markdown",
   "metadata": {},
   "source": [
    "**UPDATE the record for CustomerID = 1 on the Customer table so that the name is “Lerato Mabitso”.**"
   ]
  },
  {
   "cell_type": "code",
   "execution_count": 33,
   "metadata": {},
   "outputs": [
    {
     "data": {
      "text/plain": [
       "<pyodbc.Cursor at 0x14047e5c120>"
      ]
     },
     "execution_count": 33,
     "metadata": {},
     "output_type": "execute_result"
    }
   ],
   "source": [
    "cursor.execute(\"UPDATE Customers SET firstname = 'Lerato', lastname= 'Mabitso' WHERE customerID = 1;\")"
   ]
  },
  {
   "cell_type": "markdown",
   "metadata": {},
   "source": [
    "**DELETE the record from the Customers table for customer 2 (CustomerID = 2).**"
   ]
  },
  {
   "cell_type": "code",
   "execution_count": 34,
   "metadata": {},
   "outputs": [
    {
     "data": {
      "text/plain": [
       "[('Lerato', ), ('Leon', ), ('Charl', ), ('Julia', )]"
      ]
     },
     "execution_count": 34,
     "metadata": {},
     "output_type": "execute_result"
    }
   ],
   "source": [
    "cursor.execute(\"DELETE FROM Customers WHERE customerid= 2;\")\n",
    "cursor.commit()\n",
    "cursor.execute(\"SELECT firstname FROM Customers;\")\n",
    "cursor.fetchall()"
   ]
  },
  {
   "cell_type": "markdown",
   "metadata": {},
   "source": [
    "**Select all unique statuses from the Orders table and get a count of the number of orders for each unique status.**"
   ]
  },
  {
   "cell_type": "code",
   "execution_count": 35,
   "metadata": {},
   "outputs": [
    {
     "data": {
      "text/plain": [
       "[(2, )]"
      ]
     },
     "execution_count": 35,
     "metadata": {},
     "output_type": "execute_result"
    }
   ],
   "source": [
    "cursor.execute(\"SELECT COUNT(DISTINCT parcelStatus) FROM Orders;\")\n",
    "cursor.fetchall()"
   ]
  },
  {
   "cell_type": "markdown",
   "metadata": {},
   "source": [
    "**Return the MAXIMUM payment made on the PAYMENTS table**"
   ]
  },
  {
   "cell_type": "code",
   "execution_count": 36,
   "metadata": {},
   "outputs": [
    {
     "data": {
      "text/plain": [
       "[(700.6, )]"
      ]
     },
     "execution_count": 36,
     "metadata": {},
     "output_type": "execute_result"
    }
   ],
   "source": [
    "cursor.execute(\"SELECT MAX(amount) FROM payments;\")\n",
    "cursor.fetchall()"
   ]
  },
  {
   "cell_type": "markdown",
   "metadata": {},
   "source": [
    "**Select all customers from the “Customers” table, sorted by the “Country” column.**"
   ]
  },
  {
   "cell_type": "code",
   "execution_count": 37,
   "metadata": {},
   "outputs": [
    {
     "data": {
      "text/plain": [
       "[(4, 'Charl', 'Muller', 'Mal', '290A Dorset Ecke', 44856872553, 'Charl.muller@yahoo.com', 'Berlin', 'Germany'),\n",
       " (5, 'Julia', 'Stein', 'Female', '2 Wernerring', 448672445058, 'Js234@yahoo.com', 'Frankfurt', 'Germany'),\n",
       " (1, 'Lerato', 'Mabitso', 'Male', '284 chaucer st', 2784789657, 'john@gmail.com', 'Johannesburg', 'South'),\n",
       " (3, 'Leon', 'Glen', 'Male', '81 Everton Rd,Gillits', 27820832830, 'Leon@gmail.com', 'Durban', 'South Africa')]"
      ]
     },
     "execution_count": 37,
     "metadata": {},
     "output_type": "execute_result"
    }
   ],
   "source": [
    "cursor.execute(\"SELECT * FROM Customers ORDER BY country;\")\n",
    "cursor.fetchall()"
   ]
  },
  {
   "cell_type": "markdown",
   "metadata": {},
   "source": [
    "**Select all customers from the “Customers” table, sorted by the “Country” column.**"
   ]
  },
  {
   "cell_type": "code",
   "execution_count": 38,
   "metadata": {
    "scrolled": true
   },
   "outputs": [
    {
     "data": {
      "text/plain": [
       "[(4, 'Charl', 'Muller', 'Mal', '290A Dorset Ecke', 44856872553, 'Charl.muller@yahoo.com', 'Berlin', 'Germany'),\n",
       " (5, 'Julia', 'Stein', 'Female', '2 Wernerring', 448672445058, 'Js234@yahoo.com', 'Frankfurt', 'Germany'),\n",
       " (1, 'Lerato', 'Mabitso', 'Male', '284 chaucer st', 2784789657, 'john@gmail.com', 'Johannesburg', 'South'),\n",
       " (3, 'Leon', 'Glen', 'Male', '81 Everton Rd,Gillits', 27820832830, 'Leon@gmail.com', 'Durban', 'South Africa')]"
      ]
     },
     "execution_count": 38,
     "metadata": {},
     "output_type": "execute_result"
    }
   ],
   "source": [
    "cursor.execute(\"SELECT * FROM Customers ORDER BY country;\")\n",
    "cursor.fetchall()"
   ]
  },
  {
   "cell_type": "markdown",
   "metadata": {},
   "source": [
    "**Select all products with a price BETWEEN R100 and R600**"
   ]
  },
  {
   "cell_type": "code",
   "execution_count": 39,
   "metadata": {},
   "outputs": [
    {
     "data": {
      "text/plain": [
       "[(1, 'Harley Davidson Chopper', 'This replica features working kickstand, front suspension, gear-shift lever', 150.75),\n",
       " (2, 'Classic Car', 'Turnable front wheels, steering function', 550.75)]"
      ]
     },
     "execution_count": 39,
     "metadata": {},
     "output_type": "execute_result"
    }
   ],
   "source": [
    "cursor.execute(\"SELECT * FROM Products WHERE buyPrice BETWEEN 100 AND 600;\")\n",
    "cursor.fetchall()"
   ]
  },
  {
   "cell_type": "markdown",
   "metadata": {},
   "source": [
    "**Select all fields from “Customers” where country is “Germany” AND city is “Berlin”.**"
   ]
  },
  {
   "cell_type": "code",
   "execution_count": 40,
   "metadata": {},
   "outputs": [
    {
     "data": {
      "text/plain": [
       "[(4, 'Charl', 'Muller', 'Mal', '290A Dorset Ecke', 44856872553, 'Charl.muller@yahoo.com', 'Berlin', 'Germany')]"
      ]
     },
     "execution_count": 40,
     "metadata": {},
     "output_type": "execute_result"
    }
   ],
   "source": [
    "cursor.execute(\"SELECT * FROM Customers WHERE country = 'Germany' AND city = 'Berlin';\")\n",
    "cursor.fetchall()"
   ]
  },
  {
   "cell_type": "markdown",
   "metadata": {},
   "source": [
    "**Select all fields from “Customers” where city is “Cape Town” OR “Durban”.**"
   ]
  },
  {
   "cell_type": "code",
   "execution_count": 41,
   "metadata": {},
   "outputs": [
    {
     "data": {
      "text/plain": [
       "[(3, 'Leon', 'Glen', 'Male', '81 Everton Rd,Gillits', 27820832830, 'Leon@gmail.com', 'Durban', 'South Africa')]"
      ]
     },
     "execution_count": 41,
     "metadata": {},
     "output_type": "execute_result"
    }
   ],
   "source": [
    "cursor.execute(\"SELECT * FROM Customers WHERE city = 'Cape Town' OR city = 'Durban';\")\n",
    "cursor.fetchall()"
   ]
  },
  {
   "cell_type": "markdown",
   "metadata": {},
   "source": [
    "**Select all records from Products where the Price is GREATER than R500.**"
   ]
  },
  {
   "cell_type": "code",
   "execution_count": 42,
   "metadata": {},
   "outputs": [
    {
     "data": {
      "text/plain": [
       "[(2, 'Classic Car', 'Turnable front wheels, steering function', 550.75),\n",
       " (3, 'Sports car', 'Turnable front wheels, steering function', 700.6)]"
      ]
     },
     "execution_count": 42,
     "metadata": {},
     "output_type": "execute_result"
    }
   ],
   "source": [
    "cursor.execute(\"SELECT * FROM Products WHERE buyprice > 500;\")\n",
    "cursor.fetchall()"
   ]
  },
  {
   "cell_type": "markdown",
   "metadata": {},
   "source": [
    "**Return the sum of the Amounts on the Payments table.**"
   ]
  },
  {
   "cell_type": "code",
   "execution_count": 43,
   "metadata": {},
   "outputs": [
    {
     "data": {
      "text/plain": [
       "[(1002.1, )]"
      ]
     },
     "execution_count": 43,
     "metadata": {},
     "output_type": "execute_result"
    }
   ],
   "source": [
    "cursor.execute(\"SELECT SUM(amount) FROM payments;\")\n",
    "cursor.fetchall()"
   ]
  },
  {
   "cell_type": "markdown",
   "metadata": {},
   "source": [
    "**Count the number of shipped orders in the Orders table.**"
   ]
  },
  {
   "cell_type": "code",
   "execution_count": 44,
   "metadata": {},
   "outputs": [
    {
     "data": {
      "text/plain": [
       "[(1, )]"
      ]
     },
     "execution_count": 44,
     "metadata": {},
     "output_type": "execute_result"
    }
   ],
   "source": [
    "cursor.execute(\"SELECT COUNT(parcelStatus) FROM Orders WHERE parcelStatus = 'Shipped';\")\n",
    "cursor.fetchall()"
   ]
  },
  {
   "cell_type": "markdown",
   "metadata": {},
   "source": [
    "**Return the average price of all Products, in Rands and in Dollars (assume the exchange rate is R12 to the Dollar).**"
   ]
  },
  {
   "cell_type": "code",
   "execution_count": 45,
   "metadata": {},
   "outputs": [
    {
     "data": {
      "text/plain": [
       "[(467.3666666666666, 38.947222222222216)]"
      ]
     },
     "execution_count": 45,
     "metadata": {},
     "output_type": "execute_result"
    }
   ],
   "source": [
    "cursor.execute(\"SELECT AVG(buyprice) AS Rands, AVG(buyprice) / 12 AS Dollars FROM Products;\")\n",
    "cursor.fetchall()"
   ]
  },
  {
   "cell_type": "markdown",
   "metadata": {},
   "source": [
    "**Using INNER JOIN create a query that selects all Payments with Customer information.**"
   ]
  },
  {
   "cell_type": "code",
   "execution_count": 46,
   "metadata": {},
   "outputs": [],
   "source": [
    "cursor.execute(\"SELECT * FROM Payments INNER JOIN Customers ON Payments.customerid = Customers.customerid;\")\n",
    "cursor.commit()"
   ]
  },
  {
   "cell_type": "markdown",
   "metadata": {},
   "source": [
    "**Select all products that have turnable front wheels.**"
   ]
  },
  {
   "cell_type": "code",
   "execution_count": 47,
   "metadata": {},
   "outputs": [
    {
     "data": {
      "text/plain": [
       "[(2, 'Classic Car', 'Turnable front wheels, steering function', 550.75),\n",
       " (3, 'Sports car', 'Turnable front wheels, steering function', 700.6)]"
      ]
     },
     "execution_count": 47,
     "metadata": {},
     "output_type": "execute_result"
    }
   ],
   "source": [
    "cursor.execute(\"SELECT * FROM Products WHERE descriptions LIKE 'Turnable front wheels%';\")\n",
    "cursor.fetchall()"
   ]
  },
  {
   "cell_type": "markdown",
   "metadata": {},
   "source": [
    "### Queries Complete closing SQL Connection"
   ]
  },
  {
   "cell_type": "code",
   "execution_count": 48,
   "metadata": {},
   "outputs": [],
   "source": [
    "connect.close()"
   ]
  }
 ],
 "metadata": {
  "kernelspec": {
   "display_name": "Python 3",
   "language": "python",
   "name": "python3"
  },
  "language_info": {
   "codemirror_mode": {
    "name": "ipython",
    "version": 3
   },
   "file_extension": ".py",
   "mimetype": "text/x-python",
   "name": "python",
   "nbconvert_exporter": "python",
   "pygments_lexer": "ipython3",
   "version": "3.7.3"
  }
 },
 "nbformat": 4,
 "nbformat_minor": 2
}
