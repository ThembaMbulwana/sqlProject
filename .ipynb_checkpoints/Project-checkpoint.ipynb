{
 "cells": [
  {
   "cell_type": "markdown",
   "metadata": {},
   "source": [
    "# Part 1: Creating a database\n",
    "Save all of your instructions in a script file - you will submit this file on Gnomio and github."
   ]
  },
  {
   "cell_type": "markdown",
   "metadata": {},
   "source": [
    "**Create a database called “Umuzi”.**"
   ]
  },
  {
   "cell_type": "markdown",
   "metadata": {},
   "source": [
    "CREATE DATABASE UMUZI;"
   ]
  },
  {
   "cell_type": "markdown",
   "metadata": {},
   "source": [
    "**Create the following tables in the Umuzi database:**\n",
    "\n",
    "    Customers\n",
    "    Employees\n",
    "    Orders\n",
    "    Payments\n",
    "    Products"
   ]
  },
  {
   "cell_type": "markdown",
   "metadata": {},
   "source": [
    "/* Customers */\n",
    "CREATE TABLE Customers(\n",
    "        customerid      SERIAL PRIMARY KEY,\n",
    "        firstname       VARCHAR (50),\n",
    "        lastname        VARCHAR(50),\n",
    "        gender          VARCHAR,\n",
    "        addresses       VARCHAR(200),\n",
    "        phone           BIGINT,\n",
    "        email           VARCHAR(100),\n",
    "        city            VARCHAR(20),\n",
    "        country         VARCHAR(50)\n",
    ");\n",
    "\n",
    "\n",
    "/* Employees */\n",
    "CREATE TABLE Employees(\n",
    "        employeeid     SERIAL PRIMARY KEY ,\n",
    "        firstname      VARCHAR(50),\n",
    "        lastname       VARCHAR(50),\n",
    "        email          VARCHAR(100),\n",
    "        jobTitle       VARCHAR(50)\n",
    ");\n",
    "\n",
    "\n",
    "/* Payments */\n",
    "CREATE TABLE Payments(\n",
    "        customerId     INT REFERENCES Customers(CustomerId),\n",
    "        paymentId      SERIAL PRIMARY KEY,\n",
    "        paymentDate    DATE,\n",
    "        amount         DECIMAL\n",
    "\n",
    ");\n",
    "\n",
    "CREATE TABLE products(\n",
    "        productId     SERIAL primary key,\n",
    "        productName   VARCHAR (50),\n",
    "        descriptions  VARCHAR(500),\n",
    "        buyPrice      DECIMAL\n",
    ");\n",
    "\n",
    "/* Orders */\n",
    "CREATE TABLE Orders(\n",
    "        orderId           SERIAL PRIMARY KEY ,\n",
    "        productId         INT REFERENCES Products(ProductId),\n",
    "        paymentId         INT REFERENCES Payments(PaymentId),\n",
    "        employeeId        INT REFERENCES Employees(EmployeeId),\n",
    "        dateRequired      DATE,\n",
    "        dateShipped       DATE,\n",
    "        parcelStatus      VARCHAR(100)\n",
    "\n",
    ");\n"
   ]
  },
  {
   "cell_type": "markdown",
   "metadata": {},
   "source": [
    "**INSERT the records in the tables below into the table you created in step 2.**\n"
   ]
  },
  {
   "cell_type": "code",
   "execution_count": 21,
   "metadata": {},
   "outputs": [],
   "source": [
    "INSERT INTO Customers(customerid,firstname,lastname,gender,addresses,phone,email,city,country)\n",
    "                  VALUES(1, 'John','Hibert','Male','284 chaucer st',+2784789657,'john@gmail.com','Johannesburg','South'),\n",
    "                        (2, 'Thando','Sithole','Female','240 Sect 1',+27794445584,'thando@gmail.com','Cape Town','South Africa'),\n",
    "                        (3, 'Leon','Glen','Male','81 Everton Rd,Gillits',+27820832830,'Leon@gmail.com','Durban','South Africa'),\n",
    "                        (4, 'Charl','Muller','Mal','290A Dorset Ecke',+44856872553,'Charl.muller@yahoo.com','Berlin','Germany'),\n",
    "                        (5, 'Julia','Stein','Female','2 Wernerring',+448672445058,'Js234@yahoo.com','Frankfurt','Germany');\n",
    "                    \n",
    "INSERT INTO Employees(employeeId,firstname,lastname,email,jobtitle)\n",
    "            VALUES(1,'Kani','Matthew','mat@gmail.com','Manager'),\n",
    "                  (2,'Lesly','Cronje','LesC@gmail.com','Clerk'),\n",
    "                  (3,'Gideon','Maduku','m@gmail.com','Accountant');\n",
    "            \n",
    "            \n",
    "INSERT INTO Payments(customerId,paymentDate,amount)\n",
    "            VALUES(1,'01-09-2018',150.75),\n",
    "                  (5,'03-09-2018',150.75),\n",
    "                  (4,'03-09-2018',700.60);\n",
    "            \n",
    "            \n",
    "INSERT INTO PRODUCTS(productName,descriptions,buyPrice)\n",
    "            VALUES('Harley Davidson Chopper','This replica features working kickstand, front suspension, gear-shift lever',150.75),\n",
    "                  ('Classic Car','Turnable front wheels, steering function',550.75),\n",
    "                  ('Sports car','Turnable front wheels, steering function',700.60);\n",
    "            \n",
    "INSERT INTO Orders(productId,paymentId,employeeId,dateRequired,dateShipped,parcelStatus)\n",
    "            VALUES(1,1,2,'05-09-2018',NULL,'Not shipped'),\n",
    "                  (1,2,2,'04-09-2018','03-09-2018','Shipped'),\n",
    "                  (3,3,3,'06-09-2018',NULL,'Not shipped');\n"
   ]
  },
  {
   "cell_type": "markdown",
   "metadata": {},
   "source": [
    "# Part 2: Querying a database\n",
    "Save all of your instructions in a script file - you will submit this file on Gnomio and github.\n",
    "\n"
   ]
  },
  {
   "cell_type": "markdown",
   "metadata": {},
   "source": [
    "**1. SELECT ALL records from table Customers.**"
   ]
  },
  {
   "cell_type": "markdown",
   "metadata": {},
   "source": [
    "SELECT * FROM Customers;"
   ]
  },
  {
   "cell_type": "markdown",
   "metadata": {},
   "source": [
    "**2. SELECT records only from the name column in the Customers table.**"
   ]
  },
  {
   "cell_type": "code",
   "execution_count": null,
   "metadata": {},
   "outputs": [],
   "source": [
    "SELECT firstname FROM Customers;"
   ]
  },
  {
   "cell_type": "markdown",
   "metadata": {},
   "source": [
    "**3. Show the name of the Customer whose CustomerID is 1.**"
   ]
  },
  {
   "cell_type": "code",
   "execution_count": null,
   "metadata": {},
   "outputs": [],
   "source": [
    "SELECT firstname FROM Customers \n",
    "    WHERE CustomerID = 1;"
   ]
  },
  {
   "cell_type": "markdown",
   "metadata": {},
   "source": [
    "**4. UPDATE the record for CustomerID = 1 on the Customer table so that the name is “Lerato Mabitso”.**"
   ]
  },
  {
   "cell_type": "code",
   "execution_count": null,
   "metadata": {},
   "outputs": [],
   "source": [
    "UPDATE Customers \n",
    "    SET firstname = 'Lerato', lastname= 'Mabitso' \n",
    "    WHERE customerID = 1;"
   ]
  },
  {
   "cell_type": "markdown",
   "metadata": {},
   "source": [
    "**5. DELETE the record from the Customers table for customer 2 (CustomerID = 2).**"
   ]
  },
  {
   "cell_type": "code",
   "execution_count": null,
   "metadata": {},
   "outputs": [],
   "source": [
    "DELETE FROM Customers \n",
    "    WHERE customerid= 2;"
   ]
  },
  {
   "cell_type": "markdown",
   "metadata": {},
   "source": [
    "**6. Select all unique statuses from the Orders table and get a count of the number of orders for each unique status.**"
   ]
  },
  {
   "cell_type": "code",
   "execution_count": null,
   "metadata": {},
   "outputs": [],
   "source": [
    "SELECT COUNT(DISTINCT status) FROM Orders;"
   ]
  },
  {
   "cell_type": "markdown",
   "metadata": {},
   "source": [
    "**7. Return the MAXIMUM payment made on the PAYMENTS table**"
   ]
  },
  {
   "cell_type": "code",
   "execution_count": null,
   "metadata": {},
   "outputs": [],
   "source": [
    "SELECT MAX(amount) FROM payments;"
   ]
  },
  {
   "cell_type": "markdown",
   "metadata": {},
   "source": [
    "**8. Select all customers from the “Customers” table, sorted by the “Country” column.**"
   ]
  },
  {
   "cell_type": "code",
   "execution_count": null,
   "metadata": {},
   "outputs": [],
   "source": [
    "SELECT * FROM Customers \n",
    "    ORDER BY country;"
   ]
  },
  {
   "cell_type": "markdown",
   "metadata": {},
   "source": [
    "**9. Select all products with a price BETWEEN R100 and R600**"
   ]
  },
  {
   "cell_type": "code",
   "execution_count": null,
   "metadata": {},
   "outputs": [],
   "source": [
    "SELECT * FROM Products \n",
    "    WHERE buyPrice \n",
    "    BETWEEN 100 AND 600;"
   ]
  },
  {
   "cell_type": "markdown",
   "metadata": {},
   "source": [
    "**10. Select all fields from “Customers” where country is “Germany” AND city is “Berlin”.**"
   ]
  },
  {
   "cell_type": "code",
   "execution_count": null,
   "metadata": {},
   "outputs": [],
   "source": [
    "SELECT * FROM Customers\n",
    "    WHERE country = 'Germany' \n",
    "    AND city = 'Berlin';"
   ]
  },
  {
   "cell_type": "markdown",
   "metadata": {},
   "source": [
    "**11. Select all fields from “Customers” where city is “Cape Town” OR “Durban”.**"
   ]
  },
  {
   "cell_type": "code",
   "execution_count": null,
   "metadata": {},
   "outputs": [],
   "source": [
    "SELECT * FROM Customers \n",
    "    WHERE city = 'Cape Town' \n",
    "    OR city = 'Durban';"
   ]
  },
  {
   "cell_type": "markdown",
   "metadata": {},
   "source": [
    "**12. Select all records from Products where the Price is GREATER than R500.**"
   ]
  },
  {
   "cell_type": "code",
   "execution_count": null,
   "metadata": {},
   "outputs": [],
   "source": [
    "SELECT * FROM Products \n",
    "    WHERE buyprice > 500;"
   ]
  },
  {
   "cell_type": "markdown",
   "metadata": {},
   "source": [
    "**13. Return the sum of the Amounts on the Payments table.**"
   ]
  },
  {
   "cell_type": "code",
   "execution_count": null,
   "metadata": {},
   "outputs": [],
   "source": [
    "SELECT SUM(amount) FROM payments;"
   ]
  },
  {
   "cell_type": "markdown",
   "metadata": {},
   "source": [
    "**14. Count the number of shipped orders in the Orders table.**"
   ]
  },
  {
   "cell_type": "code",
   "execution_count": null,
   "metadata": {},
   "outputs": [],
   "source": [
    "SELECT COUNT(status) FROM Orders \n",
    "    WHERE parcelStatus = 'Shipped';"
   ]
  },
  {
   "cell_type": "markdown",
   "metadata": {},
   "source": [
    "**15. Return the average price of all Products, in Rands and in Dollars (assume the exchange rate is R12 to the Dollar).**"
   ]
  },
  {
   "cell_type": "code",
   "execution_count": null,
   "metadata": {},
   "outputs": [],
   "source": [
    "SELECT AVG(buyprice) AS Rands, \n",
    "    AVG(buyprice) / 12 AS Dollars \n",
    "FROM products;"
   ]
  },
  {
   "cell_type": "markdown",
   "metadata": {},
   "source": [
    "**16. Using INNER JOIN create a query that selects all Payments with Customer information.**"
   ]
  },
  {
   "cell_type": "code",
   "execution_count": null,
   "metadata": {},
   "outputs": [],
   "source": [
    "SELECT * FROM Payments\n",
    "    INNER JOIN Customers ON \n",
    "    Payments.customerid = Customers.customerid;"
   ]
  },
  {
   "cell_type": "markdown",
   "metadata": {},
   "source": [
    "**17. Select all products that have turnable front wheels.**"
   ]
  },
  {
   "cell_type": "code",
   "execution_count": null,
   "metadata": {},
   "outputs": [],
   "source": [
    "SELECT * FROM Products\n",
    "    WHERE descriptions LIKE 'Turnable front wheels%';"
   ]
  }
 ],
 "metadata": {
  "kernelspec": {
   "display_name": "Python 3",
   "language": "python",
   "name": "python3"
  },
  "language_info": {
   "codemirror_mode": {
    "name": "ipython",
    "version": 3
   },
   "file_extension": ".py",
   "mimetype": "text/x-python",
   "name": "python",
   "nbconvert_exporter": "python",
   "pygments_lexer": "ipython3",
   "version": "3.7.3"
  }
 },
 "nbformat": 4,
 "nbformat_minor": 2
}
