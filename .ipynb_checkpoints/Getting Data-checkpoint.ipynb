{
 "cells": [
  {
   "cell_type": "code",
   "execution_count": 1,
   "metadata": {},
   "outputs": [],
   "source": [
    "# Packages\n",
    "import requests\n",
    "from bs4 import BeautifulSoup\n",
    "import pandas as pd"
   ]
  },
  {
   "cell_type": "code",
   "execution_count": 2,
   "metadata": {},
   "outputs": [],
   "source": [
    "# website\n",
    "url = \"https://umuzi-org.github.io/tech-department/projects/sql/\""
   ]
  },
  {
   "cell_type": "code",
   "execution_count": 3,
   "metadata": {},
   "outputs": [],
   "source": [
    "# Package the request, send the request and catch the response to raw_data\n",
    "raw_data = requests.get(url)"
   ]
  },
  {
   "cell_type": "code",
   "execution_count": 4,
   "metadata": {},
   "outputs": [],
   "source": [
    "# Extracts the response as html: html_doc\n",
    "html_doc = raw_data.text"
   ]
  },
  {
   "cell_type": "code",
   "execution_count": 5,
   "metadata": {},
   "outputs": [],
   "source": [
    "# Create a BeautifulSoup object from the HTML: soup\n",
    "soup = BeautifulSoup(html_doc)"
   ]
  },
  {
   "cell_type": "code",
   "execution_count": 6,
   "metadata": {},
   "outputs": [],
   "source": [
    "# Prettify the BeautifulSoup object: pretty_soup\n",
    "pretty_soup = soup.prettify()"
   ]
  },
  {
   "cell_type": "code",
   "execution_count": 7,
   "metadata": {},
   "outputs": [],
   "source": [
    "# Get all the table title\n",
    "table_title = []\n",
    "\n",
    "for each_title in soup.find_all(\"h3\")[1:]:\n",
    "    table_title.append(each_title.text)"
   ]
  },
  {
   "cell_type": "code",
   "execution_count": 8,
   "metadata": {},
   "outputs": [
    {
     "name": "stdout",
     "output_type": "stream",
     "text": [
      "5\n"
     ]
    }
   ],
   "source": [
    "# Total tables in the list\n",
    "print(len(table_title))"
   ]
  },
  {
   "cell_type": "code",
   "execution_count": 9,
   "metadata": {},
   "outputs": [],
   "source": [
    "# Get all the tables\n",
    "table_tags = soup.find_all(\"table\")"
   ]
  },
  {
   "cell_type": "code",
   "execution_count": 10,
   "metadata": {},
   "outputs": [
    {
     "name": "stdout",
     "output_type": "stream",
     "text": [
      "5\n"
     ]
    }
   ],
   "source": [
    "# Total tables in the list\n",
    "print(len(table_tags))"
   ]
  },
  {
   "cell_type": "code",
   "execution_count": 11,
   "metadata": {},
   "outputs": [
    {
     "data": {
      "text/plain": [
       "['Customers Table',\n",
       " 'Employees Table',\n",
       " 'Orders Table',\n",
       " 'Payments Table',\n",
       " 'Products Table']"
      ]
     },
     "execution_count": 11,
     "metadata": {},
     "output_type": "execute_result"
    }
   ],
   "source": [
    "# View table title\n",
    "table_title"
   ]
  },
  {
   "cell_type": "code",
   "execution_count": 12,
   "metadata": {},
   "outputs": [],
   "source": [
    "# Table\n",
    "table_tags = soup.find_all(\"table\")"
   ]
  },
  {
   "cell_type": "code",
   "execution_count": 27,
   "metadata": {},
   "outputs": [],
   "source": [
    "#df = pd.read_html(str(table_tags[0]))"
   ]
  },
  {
   "cell_type": "code",
   "execution_count": 28,
   "metadata": {},
   "outputs": [
    {
     "data": {
      "text/html": [
       "<div>\n",
       "<style scoped>\n",
       "    .dataframe tbody tr th:only-of-type {\n",
       "        vertical-align: middle;\n",
       "    }\n",
       "\n",
       "    .dataframe tbody tr th {\n",
       "        vertical-align: top;\n",
       "    }\n",
       "\n",
       "    .dataframe thead th {\n",
       "        text-align: right;\n",
       "    }\n",
       "</style>\n",
       "<table border=\"1\" class=\"dataframe\">\n",
       "  <thead>\n",
       "    <tr style=\"text-align: right;\">\n",
       "      <th></th>\n",
       "      <th>CustomerID (int)</th>\n",
       "      <th>FirstName (varchar50)</th>\n",
       "      <th>LastName (varchar50)</th>\n",
       "      <th>Gender (varchar)</th>\n",
       "      <th>Address (varchar200)</th>\n",
       "      <th>Phone (int 10)</th>\n",
       "      <th>Email (varchar100)</th>\n",
       "      <th>City (varchar20)</th>\n",
       "      <th>Country (varchar50)</th>\n",
       "    </tr>\n",
       "  </thead>\n",
       "  <tbody>\n",
       "    <tr>\n",
       "      <th>0</th>\n",
       "      <td>1</td>\n",
       "      <td>John</td>\n",
       "      <td>Hibert</td>\n",
       "      <td>Male</td>\n",
       "      <td>284 chaucer st</td>\n",
       "      <td>84789657</td>\n",
       "      <td>john@gmail.com</td>\n",
       "      <td>Johannesburg</td>\n",
       "      <td>South Africa</td>\n",
       "    </tr>\n",
       "    <tr>\n",
       "      <th>1</th>\n",
       "      <td>2</td>\n",
       "      <td>Thando</td>\n",
       "      <td>Sithole</td>\n",
       "      <td>Female</td>\n",
       "      <td>240 Sect 1</td>\n",
       "      <td>794445584</td>\n",
       "      <td>thando@gmail.com</td>\n",
       "      <td>Cape Town</td>\n",
       "      <td>South Africa</td>\n",
       "    </tr>\n",
       "    <tr>\n",
       "      <th>2</th>\n",
       "      <td>3</td>\n",
       "      <td>Leon</td>\n",
       "      <td>Glen</td>\n",
       "      <td>Male</td>\n",
       "      <td>81 Everton Rd,Gillits</td>\n",
       "      <td>820832830</td>\n",
       "      <td>Leon@gmail.com</td>\n",
       "      <td>Durban</td>\n",
       "      <td>South Africa</td>\n",
       "    </tr>\n",
       "    <tr>\n",
       "      <th>3</th>\n",
       "      <td>4</td>\n",
       "      <td>Charl</td>\n",
       "      <td>Muller</td>\n",
       "      <td>Mal</td>\n",
       "      <td>290A Dorset Ecke</td>\n",
       "      <td>44856872553</td>\n",
       "      <td>Charl.muller@yahoo.com</td>\n",
       "      <td>Berlin</td>\n",
       "      <td>Germany</td>\n",
       "    </tr>\n",
       "    <tr>\n",
       "      <th>4</th>\n",
       "      <td>5</td>\n",
       "      <td>Julia</td>\n",
       "      <td>Stein</td>\n",
       "      <td>Female</td>\n",
       "      <td>2 Wernerring</td>\n",
       "      <td>448672445058</td>\n",
       "      <td>Js234@yahoo.com</td>\n",
       "      <td>Frankfurt</td>\n",
       "      <td>Germany</td>\n",
       "    </tr>\n",
       "  </tbody>\n",
       "</table>\n",
       "</div>"
      ],
      "text/plain": [
       "   CustomerID (int) FirstName (varchar50) LastName (varchar50)  \\\n",
       "0                 1                  John               Hibert   \n",
       "1                 2                Thando              Sithole   \n",
       "2                 3                  Leon                 Glen   \n",
       "3                 4                 Charl               Muller   \n",
       "4                 5                 Julia                Stein   \n",
       "\n",
       "  Gender (varchar)   Address (varchar200)  Phone (int 10)  \\\n",
       "0             Male         284 chaucer st        84789657   \n",
       "1           Female             240 Sect 1       794445584   \n",
       "2             Male  81 Everton Rd,Gillits       820832830   \n",
       "3              Mal       290A Dorset Ecke     44856872553   \n",
       "4           Female           2 Wernerring    448672445058   \n",
       "\n",
       "       Email (varchar100) City (varchar20) Country (varchar50)  \n",
       "0          john@gmail.com     Johannesburg        South Africa  \n",
       "1        thando@gmail.com        Cape Town        South Africa  \n",
       "2          Leon@gmail.com           Durban        South Africa  \n",
       "3  Charl.muller@yahoo.com           Berlin             Germany  \n",
       "4         Js234@yahoo.com        Frankfurt             Germany  "
      ]
     },
     "execution_count": 28,
     "metadata": {},
     "output_type": "execute_result"
    }
   ],
   "source": [
    "#df[0]"
   ]
  },
  {
   "cell_type": "code",
   "execution_count": 24,
   "metadata": {},
   "outputs": [
    {
     "name": "stdout",
     "output_type": "stream",
     "text": [
      "0 Customers.csv\n",
      "1 Employees.csv\n",
      "2 Orders.csv\n",
      "3 Payments.csv\n",
      "4 Products.csv\n"
     ]
    }
   ],
   "source": [
    "# Saving the Five tableS into CSV's\n",
    "for index, value in enumerate(table_title):\n",
    "    # html to DataFrame\n",
    "    df = pd.read_html(str(table_tags[index]))\n",
    "    df[0].to_csv(value.split(\" \")[0] +\".csv\")"
   ]
  },
  {
   "cell_type": "code",
   "execution_count": null,
   "metadata": {},
   "outputs": [],
   "source": []
  }
 ],
 "metadata": {
  "kernelspec": {
   "display_name": "Python 3",
   "language": "python",
   "name": "python3"
  },
  "language_info": {
   "codemirror_mode": {
    "name": "ipython",
    "version": 3
   },
   "file_extension": ".py",
   "mimetype": "text/x-python",
   "name": "python",
   "nbconvert_exporter": "python",
   "pygments_lexer": "ipython3",
   "version": "3.7.3"
  }
 },
 "nbformat": 4,
 "nbformat_minor": 2
}
